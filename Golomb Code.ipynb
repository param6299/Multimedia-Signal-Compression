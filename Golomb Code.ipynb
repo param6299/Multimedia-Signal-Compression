{
 "cells": [
  {
   "cell_type": "markdown",
   "metadata": {},
   "source": [
    "#                                                  Experiment 5\n",
    "# Aim - a)To write a program in PYTHON to implement unary code\n",
    "#           b)To write a program in PYTHON to implement Golomb code\n",
    "# Name - Param Nagda                          \n",
    "# Roll No - C035\n",
    "# Class - BTech EXTC                            \n",
    "# Batch - B2\n",
    "# Date of Experiment - 29/07/20           \n",
    "# Date of Submission - 04/08/20"
   ]
  },
  {
   "cell_type": "code",
   "execution_count": 3,
   "metadata": {},
   "outputs": [
    {
     "name": "stdout",
     "output_type": "stream",
     "text": [
      "Enter the number:5\n"
     ]
    }
   ],
   "source": [
    "n = int(input('Enter the number:'))"
   ]
  },
  {
   "cell_type": "code",
   "execution_count": 72,
   "metadata": {},
   "outputs": [],
   "source": [
    "# Unary Code\n",
    "def unary(q):\n",
    "    un_code = ''\n",
    "    for i in range(0,q):\n",
    "        un_code = un_code + '1'\n",
    "    un_code = un_code + '0'\n",
    "    return un_code"
   ]
  },
  {
   "cell_type": "code",
   "execution_count": null,
   "metadata": {},
   "outputs": [],
   "source": []
  },
  {
   "cell_type": "code",
   "execution_count": 73,
   "metadata": {},
   "outputs": [],
   "source": [
    "# Golomb\n",
    "import math\n",
    "m = 7\n",
    "n = 8\n",
    "k = math.ceil(math.log(m,2))\n",
    "r = int(n/m)\n",
    "c = 2**k - m\n",
    "q = math.floor(n/m)\n",
    "uc = unary(q)\n",
    "\n",
    "if r<c:\n",
    "    op = bin(r)[0]+bin(r)[k:]\n",
    "else:\n",
    "    r = r + c\n",
    "    op = bin(r)[0]+bin(r)[k-1:]"
   ]
  },
  {
   "cell_type": "code",
   "execution_count": 114,
   "metadata": {},
   "outputs": [
    {
     "name": "stdout",
     "output_type": "stream",
     "text": [
      "Golomb Code: 10010\n"
     ]
    }
   ],
   "source": [
    "print('Golomb Code:',uc+op)"
   ]
  },
  {
   "cell_type": "code",
   "execution_count": 110,
   "metadata": {},
   "outputs": [],
   "source": [
    "decode = '10010'\n",
    "m = 7\n",
    "k = math.ceil(math.log(m,2))\n",
    "c = 2**k - m\n",
    "q = 1\n",
    "for i in range(0,len(decode)):\n",
    "    if decode[i] == '1' and decode[i+1] == '1':\n",
    "        q = q + 1\n",
    "decode = decode[q+1:]"
   ]
  },
  {
   "cell_type": "code",
   "execution_count": 111,
   "metadata": {},
   "outputs": [],
   "source": [
    "r = decode[:k-1]\n",
    "r = int(r,2)"
   ]
  },
  {
   "cell_type": "code",
   "execution_count": 112,
   "metadata": {},
   "outputs": [],
   "source": [
    "if r<c:\n",
    "    n = r + q*m\n",
    "else:\n",
    "    r = r*2 + int(decode[k-1:])\n",
    "    n = r-c + q*m"
   ]
  },
  {
   "cell_type": "code",
   "execution_count": 113,
   "metadata": {},
   "outputs": [
    {
     "data": {
      "text/plain": [
       "8"
      ]
     },
     "execution_count": 113,
     "metadata": {},
     "output_type": "execute_result"
    }
   ],
   "source": [
    "n"
   ]
  },
  {
   "cell_type": "markdown",
   "metadata": {},
   "source": [
    "## Conclusion"
   ]
  },
  {
   "cell_type": "markdown",
   "metadata": {},
   "source": [
    "In the above experiment we are able to efficiently encode the integer into binary and binary into integer form.Golomb coding is a lossless compression technique.Golomb is a combination of unary and binary code.Unary code for any digit is 1's equal to the digit number followed by 0.For eg if digit is 3 the unary is '1110'.It is used for run length encoding and can effectively compress a code with repeated characters.Thus this technique is widely used as we get a high compression ratio and very little loss of data."
   ]
  },
  {
   "cell_type": "code",
   "execution_count": null,
   "metadata": {},
   "outputs": [],
   "source": []
  }
 ],
 "metadata": {
  "kernelspec": {
   "display_name": "Python 3",
   "language": "python",
   "name": "python3"
  },
  "language_info": {
   "codemirror_mode": {
    "name": "ipython",
    "version": 3
   },
   "file_extension": ".py",
   "mimetype": "text/x-python",
   "name": "python",
   "nbconvert_exporter": "python",
   "pygments_lexer": "ipython3",
   "version": "3.7.3"
  }
 },
 "nbformat": 4,
 "nbformat_minor": 2
}
