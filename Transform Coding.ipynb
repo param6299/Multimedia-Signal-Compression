{
 "cells": [
  {
   "cell_type": "markdown",
   "metadata": {},
   "source": [
    "#                                                  Experiment 6\n",
    "# Aim - To write a program in PYTHON to implement transform coding for the given example\n",
    "# Name - Param Nagda                          \n",
    "# Roll No - C035\n",
    "# Class - BTech EXTC                            \n",
    "# Batch - B2\n",
    "# Date of Experiment - 05/08/20         \n",
    "# Date of Submission - 11/08/20"
   ]
  },
  {
   "cell_type": "code",
   "execution_count": 70,
   "metadata": {},
   "outputs": [],
   "source": [
    "h = [65,75,60,70,56,80,68,50,40,50,69,62,76,64]\n",
    "w = [170,188,150,170,130,203,160,110,80,153,148,140,164,120]"
   ]
  },
  {
   "cell_type": "code",
   "execution_count": 71,
   "metadata": {},
   "outputs": [],
   "source": [
    "import numpy as np\n",
    "a = np.array([[0.3714,0.9284],[-0.9284,0.3714]])"
   ]
  },
  {
   "cell_type": "code",
   "execution_count": 72,
   "metadata": {},
   "outputs": [],
   "source": [
    "x = []\n",
    "for i in range(0,len(h)):\n",
    "    x.append([h[i],w[i]])"
   ]
  },
  {
   "cell_type": "code",
   "execution_count": 83,
   "metadata": {},
   "outputs": [
    {
     "name": "stdout",
     "output_type": "stream",
     "text": [
      "[2.7919999999999945, 0.19320000000000448, 0.006000000000000227, -1.8500000000000014, -3.7083999999999975, 1.1221999999999923, -3.7072000000000003, -5.5660000000000025, -7.424000000000003, 10.404200000000003, -9.092400000000005, -5.564799999999998, -9.648800000000001, -14.849600000000002]\n",
      "[181.969, 202.39419999999998, 161.54399999999998, 183.826, 141.49040000000002, 218.1772, 173.7992, 120.69399999999999, 89.128, 160.6152, 163.0298, 153.0028, 180.484, 135.1776]\n"
     ]
    }
   ],
   "source": [
    "theta0 = []\n",
    "theta1 = []\n",
    "for i in range(0,len(x)):\n",
    "    theta0.append(np.dot(a[0],x[i]))\n",
    "    theta1.append(np.dot(a[1],x[i]))\n",
    "print(theta1)\n",
    "print(theta0)"
   ]
  },
  {
   "cell_type": "code",
   "execution_count": 74,
   "metadata": {},
   "outputs": [],
   "source": [
    "for i in range(0,len(theta1)):\n",
    "    theta1[i] = 0"
   ]
  },
  {
   "cell_type": "code",
   "execution_count": 75,
   "metadata": {},
   "outputs": [
    {
     "data": {
      "text/plain": [
       "array([[ 0.3714, -0.9284],\n",
       "       [ 0.9284,  0.3714]])"
      ]
     },
     "execution_count": 75,
     "metadata": {},
     "output_type": "execute_result"
    }
   ],
   "source": [
    "a_inv = a.transpose()\n",
    "a_inv"
   ]
  },
  {
   "cell_type": "code",
   "execution_count": 76,
   "metadata": {},
   "outputs": [],
   "source": [
    "h_inv = []\n",
    "w_inv = []\n",
    "for i in range(0,len(theta0)):\n",
    "    h_inv.append(np.dot(a_inv[0],[theta0[i],theta1[i]]))\n",
    "    w_inv.append(np.dot(a_inv[1],[theta0[i],theta1[i]]))"
   ]
  },
  {
   "cell_type": "code",
   "execution_count": 77,
   "metadata": {},
   "outputs": [
    {
     "data": {
      "text/plain": [
       "[67.5832866,\n",
       " 75.16920587999999,\n",
       " 59.997441599999995,\n",
       " 68.2729764,\n",
       " 52.54953456000001,\n",
       " 81.03101208,\n",
       " 64.54902288000001,\n",
       " 44.8257516,\n",
       " 33.1021392,\n",
       " 59.65248527999999,\n",
       " 60.549267719999996,\n",
       " 56.82523992,\n",
       " 67.0317576,\n",
       " 50.20496064]"
      ]
     },
     "execution_count": 77,
     "metadata": {},
     "output_type": "execute_result"
    }
   ],
   "source": [
    "h_inv"
   ]
  },
  {
   "cell_type": "code",
   "execution_count": 78,
   "metadata": {},
   "outputs": [
    {
     "data": {
      "text/plain": [
       "[168.9400196,\n",
       " 187.90277528,\n",
       " 149.97744959999997,\n",
       " 170.6640584,\n",
       " 131.35968736,\n",
       " 202.55571248,\n",
       " 161.35517728000002,\n",
       " 112.05230959999999,\n",
       " 82.7464352,\n",
       " 149.11515168,\n",
       " 151.35686632,\n",
       " 142.04779952,\n",
       " 167.5613456,\n",
       " 125.49888384]"
      ]
     },
     "execution_count": 78,
     "metadata": {},
     "output_type": "execute_result"
    }
   ],
   "source": [
    "w_inv"
   ]
  },
  {
   "cell_type": "code",
   "execution_count": 79,
   "metadata": {},
   "outputs": [],
   "source": [
    "from sklearn.metrics import mean_squared_error\n",
    "from math import sqrt\n",
    "\n",
    "h_rmse = sqrt(mean_squared_error(h,h_inv))\n",
    "w_rmse = sqrt(mean_squared_error(w,w_inv))"
   ]
  },
  {
   "cell_type": "code",
   "execution_count": 80,
   "metadata": {},
   "outputs": [
    {
     "data": {
      "text/plain": [
       "6.386435742689542"
      ]
     },
     "execution_count": 80,
     "metadata": {},
     "output_type": "execute_result"
    }
   ],
   "source": [
    "h_rmse"
   ]
  },
  {
   "cell_type": "code",
   "execution_count": 81,
   "metadata": {},
   "outputs": [
    {
     "data": {
      "text/plain": [
       "2.545121489602172"
      ]
     },
     "execution_count": 81,
     "metadata": {},
     "output_type": "execute_result"
    }
   ],
   "source": [
    "w_rmse"
   ]
  },
  {
   "cell_type": "markdown",
   "metadata": {},
   "source": [
    "## Conclusion"
   ]
  },
  {
   "cell_type": "markdown",
   "metadata": {},
   "source": [
    "Transform coding compacts most information in a source sequence into a few elements of the transformed sequence using reversible transform and then discarding the elements of the sequence that do not contain much information to obtain compression. So in this experiment we took 2 columns, height and weight and implented transform coding. Both height and weight were multiplied to transform matrix. From the output obtained we kept values of the 1st column while making the values of 2nd column zero. So through this technique instead of transmitting 2 columns(height and weight), we transmitted only one column(theta0). At the receuver the original values are obtained by applying inverse transform."
   ]
  }
 ],
 "metadata": {
  "kernelspec": {
   "display_name": "Python 3",
   "language": "python",
   "name": "python3"
  },
  "language_info": {
   "codemirror_mode": {
    "name": "ipython",
    "version": 3
   },
   "file_extension": ".py",
   "mimetype": "text/x-python",
   "name": "python",
   "nbconvert_exporter": "python",
   "pygments_lexer": "ipython3",
   "version": "3.7.3"
  }
 },
 "nbformat": 4,
 "nbformat_minor": 2
}
