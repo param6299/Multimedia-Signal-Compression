{
 "cells": [
  {
   "cell_type": "code",
   "execution_count": null,
   "metadata": {},
   "outputs": [],
   "source": [
    "# Experiment 10\n",
    "#Aim - To WAP in PYTHON to implement Video Compression\n",
    "#Name - Param Nagda\n",
    "#Roll No - C035\n",
    "#Class - BTech EXTC\n",
    "#Batch - B2\n",
    "#Date of Experiment - 30/09/20\n",
    "#Date of Submission - 30/09/20"
   ]
  },
  {
   "cell_type": "code",
   "execution_count": 11,
   "metadata": {},
   "outputs": [],
   "source": [
    "import cv2\n",
    "import numpy as np\n",
    "import glob\n",
    "import os\n",
    "import shutil\n",
    "from skimage import io\n",
    "import matplotlib.pyplot as plt"
   ]
  },
  {
   "cell_type": "code",
   "execution_count": 12,
   "metadata": {},
   "outputs": [],
   "source": [
    "cap = cv2.VideoCapture('rhinos.avi')"
   ]
  },
  {
   "cell_type": "code",
   "execution_count": 13,
   "metadata": {},
   "outputs": [],
   "source": [
    "i=0\n",
    "while(cap.isOpened()):\n",
    "    ret, frame = cap.read()\n",
    "    if ret == False:\n",
    "        break\n",
    "    cv2.imwrite('C:/Users/param/Desktop/Sem 7/MMSC/Lab 10 Photos/'+'rhino'+str(i)+'.tif',frame)\n",
    "    i+=1\n",
    " \n",
    "cap.release()\n",
    "cv2.destroyAllWindows()"
   ]
  },
  {
   "cell_type": "code",
   "execution_count": 14,
   "metadata": {},
   "outputs": [],
   "source": [
    "x = len(glob.glob('C:/Users/param/Desktop/Sem 7/MMSC/Lab 10 Photos/*.tif'))\n",
    "for i in range(0,x-2,2):\n",
    "    shutil.copy('C:/Users/param/Desktop/Sem 7/MMSC/Lab 10 Photos/'+'rhino'+str(i)+'.tif','C:/Users/param/Desktop/Sem 7/MMSC/Lab 10 Half')\n",
    "    a = io.imread('C:/Users/param/Desktop/Sem 7/MMSC/Lab 10 Photos/'+'rhino'+str(i)+'.tif')\n",
    "    b = io.imread('C:/Users/param/Desktop/Sem 7/MMSC/Lab 10 Photos/'+'rhino'+str(i+2)+'.tif')\n",
    "    c = (a+b)/2\n",
    "    cv2.imwrite('C:/Users/param/Desktop/Sem 7/MMSC/Lab 10 Half/'+'rhino'+str(i+1)+'.tif',c)"
   ]
  },
  {
   "cell_type": "code",
   "execution_count": null,
   "metadata": {},
   "outputs": [],
   "source": []
  },
  {
   "cell_type": "code",
   "execution_count": 15,
   "metadata": {},
   "outputs": [],
   "source": [
    "img_array = []\n",
    "for filename in glob.glob('C:/Users/param/Desktop/Sem 7/MMSC/Lab 10 Photos/*.tif'):\n",
    "    img = cv2.imread(filename)\n",
    "    height, width, layers = img.shape\n",
    "    size = (width,height)\n",
    "    img_array.append(img)\n",
    " \n",
    " \n",
    "out = cv2.VideoWriter('C:/Users/param/Desktop/Sem 7/MMSC/project.avi',cv2.VideoWriter_fourcc(*'DIVX'), 15, size)\n",
    " \n",
    "for i in range(len(img_array)):\n",
    "    out.write(img_array[i])\n",
    "out.release()"
   ]
  },
  {
   "cell_type": "markdown",
   "metadata": {},
   "source": [
    "### Conclusion: -"
   ]
  },
  {
   "cell_type": "markdown",
   "metadata": {},
   "source": [
    "To achieve video compression, we have taken a video and broken it into frames. We copied the alternate frames to another folder and inserted the missing frames by taking the average of the previous frame and frame. Reconstruction of the new frames was performed and the video was stored. It was observed that the new video was not running smoothly as compared to the original video. The size of original video was 25 MB while the size of the compressed video reduces to 7.5 MB."
   ]
  },
  {
   "cell_type": "code",
   "execution_count": null,
   "metadata": {},
   "outputs": [],
   "source": []
  }
 ],
 "metadata": {
  "kernelspec": {
   "display_name": "Python 3",
   "language": "python",
   "name": "python3"
  },
  "language_info": {
   "codemirror_mode": {
    "name": "ipython",
    "version": 3
   },
   "file_extension": ".py",
   "mimetype": "text/x-python",
   "name": "python",
   "nbconvert_exporter": "python",
   "pygments_lexer": "ipython3",
   "version": "3.7.3"
  }
 },
 "nbformat": 4,
 "nbformat_minor": 2
}
