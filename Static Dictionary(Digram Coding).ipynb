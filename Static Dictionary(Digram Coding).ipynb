{
 "cells": [
  {
   "cell_type": "markdown",
   "metadata": {},
   "source": [
    "#                                                  Experiment 4\n",
    "# Aim - A. To write a program in PYTHON to create a simple static dictionary                      for digram coding\n",
    "#           B. To encode the given text based on the dictionary created.\n",
    "#           C. To find the compression ratio\n",
    "# Name - Param Nagda                          \n",
    "# Roll No - C035\n",
    "# Class - BTech EXTC                            \n",
    "# Batch - B2\n",
    "# Date of Experiment - 22/07/20           \n",
    "# Date of Submission - 26/07/20"
   ]
  },
  {
   "cell_type": "code",
   "execution_count": 1,
   "metadata": {},
   "outputs": [],
   "source": [
    "dict1 = {'a' : 0, 'b' : 1, 'c' : 2, 'd' : 3, 'r' : 4, 'ab' : 5, 'ac' : 6, 'ad' : 7}"
   ]
  },
  {
   "cell_type": "code",
   "execution_count": 2,
   "metadata": {},
   "outputs": [],
   "source": [
    "string = 'abracadra'\n",
    "str2 = string + \" \"\n",
    "str2 = list(str2)"
   ]
  },
  {
   "cell_type": "code",
   "execution_count": 3,
   "metadata": {},
   "outputs": [
    {
     "data": {
      "text/plain": [
       "['a', 'b', 'r', 'a', 'c', 'a', 'd', 'r', 'a', ' ']"
      ]
     },
     "execution_count": 3,
     "metadata": {},
     "output_type": "execute_result"
    }
   ],
   "source": [
    "str2"
   ]
  },
  {
   "cell_type": "code",
   "execution_count": 4,
   "metadata": {},
   "outputs": [],
   "source": [
    "comp = []\n",
    "i = 0\n",
    "while i< len(str2)-1:\n",
    "    if str2[i] + str2[i+1] in dict1:\n",
    "        comp.append(dict1[str2[i] + str2[i+1]])\n",
    "        i = i+2\n",
    "    else:\n",
    "        comp.append(dict1[str2[i]])\n",
    "        i = i+1"
   ]
  },
  {
   "cell_type": "code",
   "execution_count": 5,
   "metadata": {},
   "outputs": [
    {
     "data": {
      "text/plain": [
       "[5, 4, 6, 7, 4, 0]"
      ]
     },
     "execution_count": 5,
     "metadata": {},
     "output_type": "execute_result"
    }
   ],
   "source": [
    "comp"
   ]
  },
  {
   "cell_type": "code",
   "execution_count": 6,
   "metadata": {},
   "outputs": [
    {
     "data": {
      "text/plain": [
       "{0: '0b0',\n",
       " 1: '0b1',\n",
       " 2: '0b10',\n",
       " 3: '0b11',\n",
       " 4: '0b100',\n",
       " 5: '0b101',\n",
       " 6: '0b110',\n",
       " 7: '0b111'}"
      ]
     },
     "execution_count": 6,
     "metadata": {},
     "output_type": "execute_result"
    }
   ],
   "source": [
    "dict2 = {}\n",
    "for i in range(8):\n",
    "    temp = {i:bin(i)}\n",
    "    dict2.update(temp)\n",
    "dict2"
   ]
  },
  {
   "cell_type": "code",
   "execution_count": 7,
   "metadata": {},
   "outputs": [
    {
     "name": "stdout",
     "output_type": "stream",
     "text": [
      "['0b101', '0b100', '0b110', '0b111', '0b100', '0b0']\n"
     ]
    }
   ],
   "source": [
    "list1 = []\n",
    "for n in comp:\n",
    "    list1.append(dict2[n])\n",
    "print(list1)"
   ]
  },
  {
   "cell_type": "code",
   "execution_count": 11,
   "metadata": {},
   "outputs": [
    {
     "name": "stdout",
     "output_type": "stream",
     "text": [
      "200\n",
      "128\n"
     ]
    }
   ],
   "source": [
    "import sys\n",
    "og_size = sys.getsizeof(str2)\n",
    "comp_size = sys.getsizeof(list1)\n",
    "print(og_size)\n",
    "print(comp_size)"
   ]
  },
  {
   "cell_type": "code",
   "execution_count": 9,
   "metadata": {},
   "outputs": [
    {
     "data": {
      "text/plain": [
       "1.5625"
      ]
     },
     "execution_count": 9,
     "metadata": {},
     "output_type": "execute_result"
    }
   ],
   "source": [
    "CR = og_size/comp_size\n",
    "CR"
   ]
  },
  {
   "cell_type": "markdown",
   "metadata": {},
   "source": [
    "# Conclusion"
   ]
  },
  {
   "cell_type": "markdown",
   "metadata": {},
   "source": [
    "Static dictionary is used when we know the source that is being transmitted. Through this knowledge we can create a dictionary containing a single character or multiple characters which are concatenated. These characters are assigned values so the string to be transmitted can be compressed through these values. After the string has been replaced with the values, the compressed string and the original string are converted into binary. Using getsizeof we obtain the size original string (200 bytes) and compressed string (128 bytes). The compression ratio obtained was 1.5625."
   ]
  }
 ],
 "metadata": {
  "kernelspec": {
   "display_name": "Python 3",
   "language": "python",
   "name": "python3"
  },
  "language_info": {
   "codemirror_mode": {
    "name": "ipython",
    "version": 3
   },
   "file_extension": ".py",
   "mimetype": "text/x-python",
   "name": "python",
   "nbconvert_exporter": "python",
   "pygments_lexer": "ipython3",
   "version": "3.7.3"
  }
 },
 "nbformat": 4,
 "nbformat_minor": 2
}
