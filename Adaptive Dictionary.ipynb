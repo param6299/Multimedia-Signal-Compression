{
 "cells": [
  {
   "cell_type": "code",
   "execution_count": 2,
   "metadata": {},
   "outputs": [],
   "source": [
    "og = 'or and go for for and or the for the and or go'\n",
    "x = og.split()\n",
    "y = list(set(x))"
   ]
  },
  {
   "cell_type": "code",
   "execution_count": 3,
   "metadata": {},
   "outputs": [],
   "source": [
    "# Creating Dictionaries\n",
    "count = 0\n",
    "dict1 = {}\n",
    "for i in range(len(y)):\n",
    "    for r in range(len(x)):\n",
    "        if y[i] == x[r]:\n",
    "            count +=1\n",
    "        else:\n",
    "            continue\n",
    "    dict1[y[i]] = count\n",
    "    count = 0\n",
    "    \n",
    "dict2= {}\n",
    "for i in range(len(y)):\n",
    "    dict2[y[i]]=i"
   ]
  },
  {
   "cell_type": "code",
   "execution_count": 4,
   "metadata": {},
   "outputs": [
    {
     "data": {
      "text/plain": [
       "{'for': 3, 'or': 3, 'and': 3, 'go': 2, 'the': 2}"
      ]
     },
     "execution_count": 4,
     "metadata": {},
     "output_type": "execute_result"
    }
   ],
   "source": [
    "dict1"
   ]
  },
  {
   "cell_type": "code",
   "execution_count": 5,
   "metadata": {},
   "outputs": [
    {
     "data": {
      "text/plain": [
       "{'for': 0, 'or': 1, 'and': 2, 'go': 3, 'the': 4}"
      ]
     },
     "execution_count": 5,
     "metadata": {},
     "output_type": "execute_result"
    }
   ],
   "source": [
    "dict2"
   ]
  },
  {
   "cell_type": "code",
   "execution_count": 6,
   "metadata": {},
   "outputs": [
    {
     "data": {
      "text/plain": [
       "[1, 2, 3, 0, 0, 2, 1, 4, 0, 4, 2, 1, 3]"
      ]
     },
     "execution_count": 6,
     "metadata": {},
     "output_type": "execute_result"
    }
   ],
   "source": [
    "# Compressing the String\n",
    "x_comp = [dict2[i] for i in x]\n",
    "x_comp"
   ]
  },
  {
   "cell_type": "code",
   "execution_count": 7,
   "metadata": {},
   "outputs": [
    {
     "data": {
      "text/plain": [
       "['10', '11', '0', '1', '1', '11', '10', '0', '1', '0', '11', '10', '0']"
      ]
     },
     "execution_count": 7,
     "metadata": {},
     "output_type": "execute_result"
    }
   ],
   "source": [
    "# Converting the compressed string in binary\n",
    "comp_binary = []\n",
    "for i in x_comp:\n",
    "    comp_binary.append(bin(x_comp[i])[2:])\n",
    "comp_binary"
   ]
  },
  {
   "cell_type": "code",
   "execution_count": 8,
   "metadata": {},
   "outputs": [
    {
     "data": {
      "text/plain": [
       "['1101111',\n",
       " '1110010',\n",
       " '100000',\n",
       " '1100001',\n",
       " '1101110',\n",
       " '1100100',\n",
       " '100000',\n",
       " '1100111',\n",
       " '1101111',\n",
       " '100000',\n",
       " '1100110',\n",
       " '1101111',\n",
       " '1110010',\n",
       " '100000',\n",
       " '1100110',\n",
       " '1101111',\n",
       " '1110010',\n",
       " '100000',\n",
       " '1100001',\n",
       " '1101110',\n",
       " '1100100',\n",
       " '100000',\n",
       " '1101111',\n",
       " '1110010',\n",
       " '100000',\n",
       " '1110100',\n",
       " '1101000',\n",
       " '1100101',\n",
       " '100000',\n",
       " '1100110',\n",
       " '1101111',\n",
       " '1110010',\n",
       " '100000',\n",
       " '1110100',\n",
       " '1101000',\n",
       " '1100101',\n",
       " '100000',\n",
       " '1100001',\n",
       " '1101110',\n",
       " '1100100',\n",
       " '100000',\n",
       " '1101111',\n",
       " '1110010',\n",
       " '100000',\n",
       " '1100111',\n",
       " '1101111']"
      ]
     },
     "execution_count": 8,
     "metadata": {},
     "output_type": "execute_result"
    }
   ],
   "source": [
    "# Converting the original string in binary\n",
    "og_binary= []\n",
    "for i in range(len(og)):\n",
    "    og_binary.append(bin(ord(og[i]))[2:])\n",
    "    \n",
    "og_binary"
   ]
  },
  {
   "cell_type": "code",
   "execution_count": 9,
   "metadata": {},
   "outputs": [
    {
     "name": "stdout",
     "output_type": "stream",
     "text": [
      "Original Size: 432\n",
      "Compressed Size: 192\n",
      "Compression Ratio: 2.25\n"
     ]
    }
   ],
   "source": [
    "# Obtaing the size and compression ratio\n",
    "import sys\n",
    "compressed = sys.getsizeof(comp_binary)\n",
    "original = sys.getsizeof(og_binary)\n",
    "CR = original/compressed\n",
    "print(\"Original Size:\",original)\n",
    "print(\"Compressed Size:\",compressed)\n",
    "print(\"Compression Ratio:\",CR)"
   ]
  },
  {
   "cell_type": "code",
   "execution_count": null,
   "metadata": {},
   "outputs": [],
   "source": []
  }
 ],
 "metadata": {
  "kernelspec": {
   "display_name": "Python 3",
   "language": "python",
   "name": "python3"
  },
  "language_info": {
   "codemirror_mode": {
    "name": "ipython",
    "version": 3
   },
   "file_extension": ".py",
   "mimetype": "text/x-python",
   "name": "python",
   "nbconvert_exporter": "python",
   "pygments_lexer": "ipython3",
   "version": "3.7.3"
  }
 },
 "nbformat": 4,
 "nbformat_minor": 2
}
